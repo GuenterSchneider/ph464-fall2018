{
 "cells": [
  {
   "cell_type": "markdown",
   "metadata": {},
   "source": [
    "# Jupyter notebook overview \n",
    "\n",
    "\n",
    "* Project Jupyter homepage <https://jupyter.org>\n",
    "* A Quickstart guide <https://jupyter-notebook-beginner-guide.readthedocs.io/en/latest/index.html>\n",
    "* The tutorial <https://www.datacamp.com/community/tutorials/tutorial-jupyter-notebook>\n",
    "  * Two particulary useful sections are \n",
    "  * Best practices <https://www.datacamp.com/community/tutorials/tutorial-jupyter-notebook##UseJupyter>\n",
    "  * Examples of notebooks (learn from the best) <https://www.datacamp.com/community/tutorials/tutorial-jupyter-notebook##NotebookExamples>\n",
    "* In order to format text sections you need to learn the _markdown_ markup language: A quick summary is at <https://github.com/adam-p/markdown-here/wiki/Markdown-Cheatsheet>"
   ]
  },
  {
   "cell_type": "code",
   "execution_count": null,
   "metadata": {},
   "outputs": [],
   "source": []
  }
 ],
 "metadata": {
  "kernelspec": {
   "display_name": "Python 3",
   "language": "python",
   "name": "python3"
  },
  "language_info": {
   "codemirror_mode": {
    "name": "ipython",
    "version": 3
   },
   "file_extension": ".py",
   "mimetype": "text/x-python",
   "name": "python",
   "nbconvert_exporter": "python",
   "pygments_lexer": "ipython3",
   "version": "3.6.5"
  }
 },
 "nbformat": 4,
 "nbformat_minor": 2
}
