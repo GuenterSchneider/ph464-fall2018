{
 "cells": [
  {
   "cell_type": "markdown",
   "metadata": {},
   "source": [
    "\n",
    "# Numpy array slicing\n",
    "\n",
    "https://docs.scipy.org/doc/numpy-1.15.0/reference/arrays.indexing.html"
   ]
  },
  {
   "cell_type": "code",
   "execution_count": null,
   "metadata": {},
   "outputs": [],
   "source": [
    "import numpy as np\n",
    "from sklearn import datasets"
   ]
  },
  {
   "cell_type": "code",
   "execution_count": null,
   "metadata": {},
   "outputs": [],
   "source": [
    "# import some data to play with\n",
    "iris = datasets.load_iris()\n",
    "# Take the first two features. We could avoid this by using a two-dim dataset\n",
    "X = iris.data[:, :2]\n",
    "y = iris.target\n",
    "\n"
   ]
  },
  {
   "cell_type": "code",
   "execution_count": null,
   "metadata": {},
   "outputs": [],
   "source": [
    "print( iris.data[0,:] ) \n",
    "print( X[0,:], \"   seems correct!\")\n",
    "\n",
    "print('Shape of iris.data =', np.shape(iris.data))\n",
    "print('Shape of X =', np.shape(X))"
   ]
  },
  {
   "cell_type": "markdown",
   "metadata": {},
   "source": [
    "individual features "
   ]
  },
  {
   "cell_type": "code",
   "execution_count": null,
   "metadata": {},
   "outputs": [],
   "source": [
    "# first feature\n",
    "x1 = iris.data[:, :1]\n",
    "x1fail = iris.data[:, 0]\n",
    "print('Shape of x1,x1fail =', np.shape(x1), np.shape(x1fail))"
   ]
  },
  {
   "cell_type": "code",
   "execution_count": null,
   "metadata": {},
   "outputs": [],
   "source": [
    "# reshape can be used to restore 2d array\n",
    "x1fix = x1fail.reshape(-1,1)\n",
    "print('Shape of x1fix =', np.shape(x1fix))\n",
    "print( 'x1fix =',x1fix[0,:],'x1 =',x1[0,:])"
   ]
  },
  {
   "cell_type": "markdown",
   "metadata": {},
   "source": [
    "why index = 0 ?"
   ]
  },
  {
   "cell_type": "code",
   "execution_count": null,
   "metadata": {},
   "outputs": [],
   "source": [
    "# python and numpy indices start at 0 \n",
    "x1wrongset = iris.data[:, 1]\n",
    "print( 'x1 =',x1[0,:], 'x1wrongset =',x1wrongset[0] )"
   ]
  },
  {
   "cell_type": "code",
   "execution_count": null,
   "metadata": {},
   "outputs": [],
   "source": [
    "# second feature\n",
    "x2wrongset = iris.data[:, 2].reshape(-1,1)\n",
    "x2a = iris.data[:, 1].reshape(-1,1)\n",
    "x2b = iris.data[:, 1:2]\n",
    "print( 'x2wrongset =',x2wrongset[0,:])\n",
    "print('Shape of x2a,x2b =', np.shape(x2a), np.shape(x2b))\n",
    "print( 'x2a =',x2a[0,:],'x2b =', x2b[0,:])"
   ]
  },
  {
   "cell_type": "code",
   "execution_count": 6,
   "metadata": {},
   "outputs": [
    {
     "name": "stdout",
     "output_type": "stream",
     "text": [
      "[5.1 3.5 1.4 0.2]\n",
      "[5.1 3.5]    seems correct!\n",
      "Shape of iris.data = (150, 4)\n",
      "Shape of X = (150, 2)\n",
      "Shape of x1,x1fail = (150, 1) (150,)\n",
      "Shape of x1fix = (150, 1)\n",
      "x1fix = [5.1] x1 = [5.1]\n",
      "x1 = [5.1] x1wrongset = 3.5\n",
      "x2wrongset = [1.4]\n",
      "Shape of x2a,x2b = (150, 1) (150, 1)\n",
      "x2a = [3.5] x2b = [3.5]\n",
      "Shape of x24 = (150, 2)\n",
      "x24 = [3.5 0.2]\n"
     ]
    }
   ],
   "source": [
    "# 2nd and 4th feature\n",
    "x24 = iris.data[:, 1::2]\n",
    "print('Shape of x24 =', np.shape(x24))\n",
    "print( 'x24 =',x24[0,:])"
   ]
  },
  {
   "cell_type": "code",
   "execution_count": null,
   "metadata": {},
   "outputs": [],
   "source": []
  }
 ],
 "metadata": {
  "kernelspec": {
   "display_name": "Python 3",
   "language": "python",
   "name": "python3"
  },
  "language_info": {
   "codemirror_mode": {
    "name": "ipython",
    "version": 3
   },
   "file_extension": ".py",
   "mimetype": "text/x-python",
   "name": "python",
   "nbconvert_exporter": "python",
   "pygments_lexer": "ipython3",
   "version": "3.6.5"
  }
 },
 "nbformat": 4,
 "nbformat_minor": 1
}
